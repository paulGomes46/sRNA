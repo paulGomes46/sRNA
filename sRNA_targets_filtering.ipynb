{
 "cells": [
  {
   "cell_type": "markdown",
   "id": "d1b056af-da00-47be-852f-c35883a2e731",
   "metadata": {},
   "source": [
    "# Identification of miRNA targets"
   ]
  },
  {
   "cell_type": "code",
   "execution_count": null,
   "id": "9182e9d5-3665-465b-b733-016fee1a039d",
   "metadata": {},
   "outputs": [],
   "source": [
    "import pandas as pd\n",
    "import os\n",
    "\n",
    "#load and sort the data\n",
    "file = \"../Data_bgi/sequences of interest/mirna_targets.xlsx\"\n",
    "df = pd.read_excel(file)\n",
    "df.sort_values(by=\"Expectation\", ascending=False).head()"
   ]
  },
  {
   "cell_type": "code",
   "execution_count": null,
   "id": "b62481dc-f521-4f80-a4d9-c53a5e1c0e22",
   "metadata": {},
   "outputs": [],
   "source": [
    "#only keep expectations <=2\n",
    "df_filter = df[df[\"Expectation\"] < 2.5]\n",
    "df_filter.sort_values(by=\"Expectation\", ascending=False).head()"
   ]
  },
  {
   "cell_type": "code",
   "execution_count": null,
   "id": "9dbc6273-0f90-42ef-803f-b09a0f907714",
   "metadata": {},
   "outputs": [],
   "source": [
    "# Check the targets of the listed miRNAs\n",
    "mirna = ('csi-miR394b-5p',\n",
    "'csi-miR396a-3p')\n",
    "df_reduced = df_filter[df_filter[\"miRNA_Acc.\"].isin(mirna)]\n",
    "df_reduced.head()\n"
   ]
  },
  {
   "cell_type": "code",
   "execution_count": null,
   "id": "9b219b68-8402-4a2e-83b9-df8a8bd9bf95",
   "metadata": {},
   "outputs": [],
   "source": [
    "df_reduced.to_excel(\"miNA_pandas_orange.xlsx\")"
   ]
  }
 ],
 "metadata": {
  "kernelspec": {
   "display_name": "Python 3 (ipykernel)",
   "language": "python",
   "name": "python3"
  },
  "language_info": {
   "codemirror_mode": {
    "name": "ipython",
    "version": 3
   },
   "file_extension": ".py",
   "mimetype": "text/x-python",
   "name": "python",
   "nbconvert_exporter": "python",
   "pygments_lexer": "ipython3",
   "version": "3.11.9"
  }
 },
 "nbformat": 4,
 "nbformat_minor": 5
}
